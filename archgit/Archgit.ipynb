{
 "cells": [
  {
   "cell_type": "markdown",
   "metadata": {},
   "source": [
    "# Archgit - How To Create A Commit From Scratch\n",
    "\n",
    "Many software developers use Git every day, but have you ever wondered how all of the Git magic acutally works? \"Sure it uses hashes and stuff\" is what you may be thinking right now. Which is correct by the way but it is only part of the story. I will try to enlighten you with some details about the guts of git with this interactive notebook.\n",
    "\n",
    "To do so I will explain how to create a basic Git repository and commit a file without using any git commands all. Welcome to Archgit or how to create a commit from scratch! Without further ado, let's get started!"
   ]
  },
  {
   "cell_type": "markdown",
   "metadata": {},
   "source": [
    "First we need to create a bare bones repository. With `git init` the repository is already bloated with lots of unnecessary stuff..."
   ]
  },
  {
   "cell_type": "code",
   "execution_count": 1,
   "metadata": {
    "scrolled": false
   },
   "outputs": [
    {
     "name": "stdout",
     "output_type": "stream",
     "text": [
      "\u001b[01;34m./bloated/.git/\u001b[00m\r\n",
      "├── HEAD\r\n",
      "├── config\r\n",
      "├── description\r\n",
      "├── \u001b[01;34mhooks\u001b[00m\r\n",
      "│   ├── \u001b[01;32mapplypatch-msg.sample\u001b[00m\r\n",
      "│   ├── \u001b[01;32mcommit-msg.sample\u001b[00m\r\n",
      "│   ├── \u001b[01;32mfsmonitor-watchman.sample\u001b[00m\r\n",
      "│   ├── \u001b[01;32mpost-update.sample\u001b[00m\r\n",
      "│   ├── \u001b[01;32mpre-applypatch.sample\u001b[00m\r\n",
      "│   ├── \u001b[01;32mpre-commit.sample\u001b[00m\r\n",
      "│   ├── \u001b[01;32mpre-push.sample\u001b[00m\r\n",
      "│   ├── \u001b[01;32mpre-rebase.sample\u001b[00m\r\n",
      "│   ├── \u001b[01;32mpre-receive.sample\u001b[00m\r\n",
      "│   ├── \u001b[01;32mprepare-commit-msg.sample\u001b[00m\r\n",
      "│   └── \u001b[01;32mupdate.sample\u001b[00m\r\n",
      "├── \u001b[01;34minfo\u001b[00m\r\n",
      "│   └── exclude\r\n",
      "├── \u001b[01;34mobjects\u001b[00m\r\n",
      "│   ├── \u001b[01;34minfo\u001b[00m\r\n",
      "│   └── \u001b[01;34mpack\u001b[00m\r\n",
      "└── \u001b[01;34mrefs\u001b[00m\r\n",
      "    ├── \u001b[01;34mheads\u001b[00m\r\n",
      "    └── \u001b[01;34mtags\u001b[00m\r\n",
      "\r\n",
      "8 directories, 15 files\r\n"
     ]
    }
   ],
   "source": [
    "!git init -q ./bloated\n",
    "!tree ./bloated/.git/\n",
    "!rm -rf ./bloated"
   ]
  },
  {
   "cell_type": "markdown",
   "metadata": {},
   "source": [
    "What we actually only need is the `.git` directory with the `HEAD` file, which tells git from where to start to build our working directory, as well as the `objects` and `refs` direcotries. The `objects` directory is where Git actually stores all the data and the `refs` directory enables us to save references to specific points in time in a human readable or rather rememberable format."
   ]
  },
  {
   "cell_type": "code",
   "execution_count": 2,
   "metadata": {},
   "outputs": [
    {
     "name": "stdout",
     "output_type": "stream",
     "text": [
      "\u001b[01;34mbasicrepo/.git\u001b[00m\n",
      "├── HEAD\n",
      "├── \u001b[01;34mobjects\u001b[00m\n",
      "└── \u001b[01;34mrefs\u001b[00m\n",
      "    └── \u001b[01;34mheads\u001b[00m\n",
      "\n",
      "3 directories, 1 file\n",
      "On branch master\n",
      "\n",
      "No commits yet\n",
      "\n",
      "nothing to commit (create/copy files and use \"git add\" to track)\n"
     ]
    }
   ],
   "source": [
    "!mkdir -p basicrepo/.git/refs/heads\n",
    "!mkdir -p basicrepo/.git/objects\n",
    "!echo \"ref: refs/heads/master\" >> ./basicrepo/.git/HEAD\n",
    "!tree basicrepo/.git\n",
    "!git --git-dir=$PWD/basicrepo/.git --work-tree=$PWD/basicrepo status"
   ]
  },
  {
   "cell_type": "markdown",
   "metadata": {},
   "source": [
    "As we can see `git status` is happy with our minimal repository and says that we are on the *master* branch, which is a little bit of a lie at the moment since there is no reference to the *master* branch in `refs/heads`.\n",
    "\n",
    "Let's takse this opportunity to get into how git actually stores *things* and first and foremost what kind of *things* there actually are"
   ]
  },
  {
   "cell_type": "markdown",
   "metadata": {},
   "source": [
    "## Things in Git - Blobs, Trees and Commits"
   ]
  },
  {
   "cell_type": "markdown",
   "metadata": {},
   "source": [
    "Git basically knows three kinds of objects (there are more but they are not important for the scope of this tutorial): Blobs, trees and commits. Blobs represent the contents of the files, trees represent the structure of the repository (one can think of them as the filesystem of git) and commits represent snapshots of the repository including some additional information.\n",
    "\n",
    "All of these objects are stored in a compressed (using *zlib*), binary format in the `.git/objects` directory. To reference them the SHA-1 hash function is used to create a unique 20 byte fingerprint for each object. The first two hex characters are the directory and the remaining 38 characters are the filename. This prevents a very flat hierarchy and is easier for an OS to handle."
   ]
  },
  {
   "cell_type": "markdown",
   "metadata": {},
   "source": [
    "## Blobs\n",
    "\n",
    "Let's start all the way at the bottom. A blob represents a chunk (or blob for that matter) of binary data. This is the basic way that Git saves all its files.\n",
    "\n",
    "The format of a blob is as follows:  \n",
    ">blob \\[*size of content*\\]\\\\u0000\\[*content*\\]  \n",
    ">\n",
    ">For example:  \n",
    ">blob 25\\u0000This is the README file.\\n\n",
    "\n",
    "So let's create our very own blob"
   ]
  },
  {
   "cell_type": "code",
   "execution_count": 8,
   "metadata": {},
   "outputs": [
    {
     "name": "stdout",
     "output_type": "stream",
     "text": [
      "Content:  Hello World\n",
      "\n",
      "Header: blob 12\u0000\n",
      "Store: blob 12\u0000Hello World\n",
      "\n",
      "Digest: 557db03de997c86a4a028e1ebd3a1ceb225be238\n",
      "Dir: 55\n",
      "File: 7db03de997c86a4a028e1ebd3a1ceb225be238\n",
      "\n",
      "Compressed: b'x\\x9cK\\xca\\xc9OR04b\\xf0H\\xcd\\xc9\\xc9W\\x08\\xcf/\\xcaI\\xe1\\x02\\x00A\\xd1\\x06I'\n"
     ]
    }
   ],
   "source": [
    "import os\n",
    "import zlib\n",
    "from hashlib import sha1\n",
    "\n",
    "content = 'Hello World\\n'\n",
    "header = f'blob {len(content)}\\u0000'\n",
    "store = header + content\n",
    "\n",
    "# Create the fingerprint to reference our blob later\n",
    "digest = sha1(store.encode('utf-8')).hexdigest()\n",
    "compressed = zlib.compress(store.encode('utf-8'))\n",
    "\n",
    "print('Content: ', content)\n",
    "print('Header:', header)\n",
    "print('Store:', store)\n",
    "print('Digest:', digest)\n",
    "print('Dir:', digest[:2])\n",
    "print('File:', digest[2:])\n",
    "print('\\nCompressed:', compressed)\n",
    "\n",
    "os.makedirs(os.path.dirname(f'basicrepo/.git/objects/{digest[:2]}/'))\n",
    "with open(f'basicrepo/.git/objects/{digest[:2]}/{digest[2:]}', 'wb') as blob:\n",
    "    blob.write(compressed)\n"
   ]
  },
  {
   "cell_type": "markdown",
   "metadata": {},
   "source": [
    "We have now created our first Git object and will now examine it more closely to verify that Git actually understands the file that we have just created.  \n",
    "For this we will use the Git command (yes, yes I said no Git commands but bear with me) `git cat-file`."
   ]
  },
  {
   "cell_type": "code",
   "execution_count": 16,
   "metadata": {},
   "outputs": [
    {
     "name": "stdout",
     "output_type": "stream",
     "text": [
      "\u001b[01;34mbasicrepo/.git\u001b[00m\n",
      "├── HEAD\n",
      "├── \u001b[01;34mobjects\u001b[00m\n",
      "│   └── \u001b[01;34m55\u001b[00m\n",
      "│       └── 7db03de997c86a4a028e1ebd3a1ceb225be238\n",
      "└── \u001b[01;34mrefs\u001b[00m\n",
      "    └── \u001b[01;34mheads\u001b[00m\n",
      "\n",
      "4 directories, 2 files\n",
      "\n",
      "Type of object:\n",
      "blob\n",
      "Content of object:\n",
      "Hello World\n",
      "Raw content:\n",
      "x�K��OR04b�H����/�I�\u0002\u0000A�\u0006I"
     ]
    }
   ],
   "source": [
    "!tree basicrepo/.git\n",
    "!echo '\\nType of object:'\n",
    "!git --git-dir=$PWD/basicrepo/.git cat-file -t 557d\n",
    "!echo 'Content of object:'\n",
    "!git --git-dir=$PWD/basicrepo/.git cat-file -p 557d\n",
    "!echo 'Raw content:'\n",
    "!cat basicrepo/.git/objects/55/7db03de997c86a4a028e1ebd3a1ceb225be238"
   ]
  },
  {
   "cell_type": "markdown",
   "metadata": {},
   "source": [
    "As you can see, Git understands that our object is a blob and that it's content is *'Hello World\\n'* and we used the digest to reference it (in most cases the first four hex characters are enough to uniquely identify the object we mean but we could be more exact here). So far so good!  \n",
    "\n",
    "An interesting thing to note here is that we stored only the content of a file in the blob, not including a filename, for example. This means that two files with identical content will result in the same blob and therefore are only saved once.  \n",
    "\n",
    "But how does Git then know my filenames? Good question, let's move on!"
   ]
  },
  {
   "attachments": {
    "tree.png": {
     "image/png": "[encoded data removed]"
    }
   },
   "cell_type": "markdown",
   "metadata": {},
   "source": [
    "## Trees\n",
    "Trees are used to represent the file system in a repository. They can answer questions like: What is the name of a file? Which directories are there? etc.  \n",
    "They are also used to build your working tree when you checkout a branch, by the way.\n",
    "\n",
    "![tree.png](attachment:tree.png)\n",
    "\n",
    "The filesystem is build by trees referencing other trees or blobs as seen in the figure above. Each entry in the tree object associates a name to another object which is either a tree or a blob. The resulting structure of the figure above would be a root directory with two files (README and Rakefile) and a subdirectory called lib which in turn is a tree object which references a third file named simplegit.rb.  \n",
    "So a tree object could have two entries with different names but referencing the same blob which would create two files with identical content but different names.\n",
    "\n",
    "The format of a tree object is as follows:  \n",
    "> tree \\[*content size*\\]\\\\u0000\\[*Entries having references to other trees and blobs*\\]  \n",
    "With each entry having the format:  \n",
    "> \\[mode\\] \\[*file/directory name*\\]\\\\u0000\\[*SHA-1 of referenced blob or tree (as bytes)*\\]"
   ]
  },
  {
   "cell_type": "code",
   "execution_count": null,
   "metadata": {},
   "outputs": [],
   "source": []
  }
 ],
 "metadata": {
  "kernelspec": {
   "display_name": "Python 3",
   "language": "python",
   "name": "python3"
  },
  "language_info": {
   "codemirror_mode": {
    "name": "ipython",
    "version": 3
   },
   "file_extension": ".py",
   "mimetype": "text/x-python",
   "name": "python",
   "nbconvert_exporter": "python",
   "pygments_lexer": "ipython3",
   "version": "3.7.3"
  }
 },
 "nbformat": 4,
 "nbformat_minor": 2
}
