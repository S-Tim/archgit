{
 "cells": [
  {
   "cell_type": "markdown",
   "metadata": {},
   "source": [
    "# Archgit - How To Create A Commit From Scratch\n",
    "\n",
    "Many software developers use Git every day, but have you ever wondered how all of the Git magic acutally works? \"Sure it uses hashes and stuff\" is what you may be thinking right now. Which is correct by the way but it is only part of the story. I will try to enlighten you with some details about the guts of Git with this interactive notebook.\n",
    "\n",
    "To do so I will explain how to create a basic Git repository and commit a file without using any Git commands all. Welcome to Archgit or how to create a commit from scratch! Without further ado, let's get started!"
   ]
  },
  {
   "cell_type": "markdown",
   "metadata": {},
   "source": [
    "First we need to create a bare bones repository. With `git init` the repository is already bloated with lots of unnecessary stuff..."
   ]
  },
  {
   "cell_type": "code",
   "execution_count": null,
   "metadata": {
    "scrolled": false
   },
   "outputs": [],
   "source": [
    "!git init -q ./bloated\n",
    "!tree ./bloated/.git/\n",
    "!rm -rf ./bloated"
   ]
  },
  {
   "cell_type": "markdown",
   "metadata": {},
   "source": [
    "What we actually only need is the `.git` directory with the `HEAD` file, which tells Git from where to start to build our working directory, as well as the `objects` and `refs` direcotries. The `objects` directory is where Git actually stores all the data and the `refs` directory enables us to save references to specific points in time in a human readable or rather rememberable format."
   ]
  },
  {
   "cell_type": "code",
   "execution_count": null,
   "metadata": {},
   "outputs": [],
   "source": [
    "!mkdir -p basicrepo/.git/refs/heads\n",
    "!mkdir -p basicrepo/.git/objects\n",
    "!echo \"ref: refs/heads/master\" >> ./basicrepo/.git/HEAD\n",
    "!tree basicrepo/.git\n",
    "!git --git-dir=$PWD/basicrepo/.git --work-tree=$PWD/basicrepo status"
   ]
  },
  {
   "cell_type": "markdown",
   "metadata": {},
   "source": [
    "As we can see `git status` is happy with our minimal repository and says that we are on the *master* branch, which is a little bit of a lie at the moment since there is no reference to the *master* branch in `refs/heads`.\n",
    "\n",
    "Let's takse this opportunity to get into how Git actually stores *things* and first and foremost what kind of *things* there actually are"
   ]
  },
  {
   "cell_type": "markdown",
   "metadata": {},
   "source": [
    "## Things in Git - Blobs, Trees and Commits"
   ]
  },
  {
   "cell_type": "markdown",
   "metadata": {},
   "source": [
    "Git basically knows three kinds of objects (there are more but they are not important for the scope of this tutorial): Blobs, trees and commits. Blobs represent the contents of the files, trees represent the structure of the repository (one can think of them as the filesystem of Git) and commits represent snapshots of the repository including some additional information.\n",
    "\n",
    "All of these objects are stored in a compressed (using *zlib*), binary format in the `.git/objects` directory. To reference them the SHA-1 hash function is used to create a unique 20 byte fingerprint for each object. The first two hex characters are the directory and the remaining 38 characters are the filename. This prevents a very flat hierarchy and is easier for an OS to handle."
   ]
  },
  {
   "cell_type": "markdown",
   "metadata": {},
   "source": [
    "## Blobs\n",
    "\n",
    "Let's start all the way at the bottom. A blob represents a chunk (or blob for that matter) of binary data. This is the basic way that Git saves all its files.\n",
    "\n",
    "The format of a blob is as follows:  \n",
    "![blob_format](img/blob_format.png)\n",
    "\n",
    "So let's create our very own blob"
   ]
  },
  {
   "cell_type": "code",
   "execution_count": null,
   "metadata": {},
   "outputs": [],
   "source": [
    "import os\n",
    "import zlib\n",
    "from hashlib import sha1\n",
    "\n",
    "blob_content = 'Hello World\\n'\n",
    "blob_header = f'blob {len(blob_content)}\\x00'\n",
    "blob_store = blob_header + blob_content\n",
    "\n",
    "# Create the fingerprint to reference our blob later\n",
    "blob_digest = sha1(blob_store.encode('utf-8')).hexdigest()\n",
    "blob_compressed = zlib.compress(blob_store.encode('utf-8'))\n",
    "\n",
    "print('Content: ', blob_content)\n",
    "print('Header:', blob_header)\n",
    "print('Store:', blob_store)\n",
    "print('Digest:', blob_digest)\n",
    "print('Dir:', blob_digest[:2])\n",
    "print('File:', blob_digest[2:])\n",
    "print('\\nCompressed:', blob_compressed)\n",
    "\n",
    "os.makedirs(os.path.dirname(f'basicrepo/.git/objects/{blob_digest[:2]}/'))\n",
    "with open(f'basicrepo/.git/objects/{blob_digest[:2]}/{blob_digest[2:]}', 'wb') as blob:\n",
    "    blob.write(blob_compressed)\n"
   ]
  },
  {
   "cell_type": "markdown",
   "metadata": {},
   "source": [
    "We have now created our first Git object and will examine it more closely to verify that Git actually understands the file that we have just created.  \n",
    "For this we will use the Git command (yes, yes I said no Git commands but bear with me) `git cat-file`."
   ]
  },
  {
   "cell_type": "code",
   "execution_count": null,
   "metadata": {},
   "outputs": [],
   "source": [
    "!tree basicrepo/.git\n",
    "!echo '\\nType of object:'\n",
    "!git --git-dir=$PWD/basicrepo/.git cat-file -t 557d\n",
    "!echo 'Content of object:'\n",
    "!git --git-dir=$PWD/basicrepo/.git cat-file -p 557d\n",
    "!echo 'Raw content:'\n",
    "!cat basicrepo/.git/objects/55/7db03de997c86a4a028e1ebd3a1ceb225be238"
   ]
  },
  {
   "cell_type": "markdown",
   "metadata": {},
   "source": [
    "As you can see, Git understands that our object is a blob and that it's content is *'Hello World\\n'* and we used the digest to reference it (in most cases the first four hex characters are enough to uniquely identify the object we mean but we could be more exact here). So far so good!  \n",
    "\n",
    "An interesting thing to note here is that we stored only the content of a file in the blob, not including a filename, for example. This means that two files with identical content will result in the same blob and therefore are only saved once.  \n",
    "\n",
    "But how does Git then know my filenames? Good question, let's move on!"
   ]
  },
  {
   "cell_type": "markdown",
   "metadata": {},
   "source": [
    "## Trees\n",
    "Trees are used to represent the file system in a repository. They can answer questions like: What is the name of a file? Which directories are there? etc.  \n",
    "They are also used to build your working tree when you checkout a branch, by the way.\n",
    "\n",
    "![tree1](img/tree1.png)\n",
    "\n",
    "The filesystem is build by trees referencing other trees or blobs as seen in the figure above. Each entry in the tree object associates a name to another object which is either a tree or a blob. The resulting structure of the figure above would be a root directory with two files (README and Rakefile) and a subdirectory called lib which in turn is a tree object which references a third file named simplegit.rb.  \n",
    "So a tree object could have two entries with different names but referencing the same blob which would create two files with identical content but different names.\n",
    "\n",
    "![tree2](img/tree2.png)\n",
    "\n",
    "The format of a tree object is as follows:\n",
    "\n",
    "![tree2](img/tree_format.png)\n",
    "\n",
    "Now that we know everything we need let's get to it!"
   ]
  },
  {
   "cell_type": "code",
   "execution_count": null,
   "metadata": {},
   "outputs": [],
   "source": [
    "tree_filename = \"hello.txt\"\n",
    "tree_content = b'100644 ' + tree_filename.encode('utf-8') + b'\\x00' + bytes.fromhex(blob_digest)\n",
    "tree_header = f'tree {len(tree_content)}\\x00'\n",
    "tree_store = tree_header.encode('utf-8') + tree_content\n",
    "\n",
    "tree_digest = sha1(tree_store).hexdigest()\n",
    "tree_compressed = zlib.compress(tree_store)\n",
    "\n",
    "print('Ref (blob) Hash: ', blob_digest)\n",
    "print('Header:', tree_header)\n",
    "print('Store:', tree_store)\n",
    "print('Digest:', tree_digest)\n",
    "print('Dir:', tree_digest[:2])\n",
    "print('File:', tree_digest[2:])\n",
    "print('Compressed:', tree_compressed)\n",
    "\n",
    "os.makedirs(os.path.dirname(f'basicrepo/.git/objects/{tree_digest[:2]}/'))\n",
    "with open(f'basicrepo/.git/objects/{tree_digest[:2]}/{tree_digest[2:]}', 'wb') as tree:\n",
    "    tree.write(tree_compressed)"
   ]
  },
  {
   "cell_type": "markdown",
   "metadata": {},
   "source": [
    "As before we can now verify that our tree object is valid and check out its content using `git cat-file`"
   ]
  },
  {
   "cell_type": "code",
   "execution_count": null,
   "metadata": {},
   "outputs": [],
   "source": [
    "!tree basicrepo/.git\n",
    "!echo '\\nType of object:'\n",
    "!git --git-dir=$PWD/basicrepo/.git cat-file -t 97b4\n",
    "!echo 'Content of object:'\n",
    "!git --git-dir=$PWD/basicrepo/.git cat-file -p 97b4\n",
    "!echo 'Raw content:'\n",
    "!cat basicrepo/.git/objects/97/b49d4c943e3715fe30f141cc6f27a8548cee0e"
   ]
  },
  {
   "cell_type": "markdown",
   "metadata": {},
   "source": [
    "## Commits\n",
    "\n",
    "Lastly we need to create a commit object from our blob and tree. Commits basically mark a point in time of a repository. They annotate a tree with a lot of meta data such as author and committer information, timestamps and comments.\n",
    "\n",
    "The structure of a commit object is as follows:\n",
    "\n",
    "![commit_format](img/commit_format.png)\n",
    "\n",
    "A commit always refers to a single tree object which will be placed in the root of the Git repository and then expanded to create the working directory.\n",
    "\n",
    "![commit](img/commit2.png)"
   ]
  },
  {
   "cell_type": "code",
   "execution_count": null,
   "metadata": {},
   "outputs": [],
   "source": [
    "import time\n",
    "\n",
    "author_name = 'John Doe'\n",
    "author_email = 'jd@someplace.com'\n",
    "# using a constant value instead of int(time.time())\n",
    "# for stability and to be able to use it in the following script\n",
    "seconds_since_epoch = 1562917933\n",
    "time_zone = '+0000'\n",
    "commit_message = 'This is it! We made it!\\n'\n",
    "\n",
    "commit_content = f'tree {tree_digest}'\n",
    "commit_content += f'\\nauthor {author_name} <{author_email}> {seconds_since_epoch} {time_zone}'\n",
    "commit_content += f'\\ncommitter {author_name} <{author_email}> {seconds_since_epoch} {time_zone}'\n",
    "commit_content += f'\\n\\n{commit_message}'\n",
    "\n",
    "commit_header = f'commit {len(commit_content)}\\x00'\n",
    "commit_store = commit_header.encode('utf-8') + commit_content.encode('utf-8')\n",
    "\n",
    "commit_digest = sha1(commit_store).hexdigest()\n",
    "commit_compressed = zlib.compress(commit_store)\n",
    "\n",
    "os.makedirs(os.path.dirname(f'basicrepo/.git/objects/{commit_digest[:2]}/'))\n",
    "with open(f'basicrepo/.git/objects/{commit_digest[:2]}/{commit_digest[2:]}', 'wb') as commit:\n",
    "    commit.write(commit_compressed)\n",
    "\n",
    "print('Header:', commit_header)\n",
    "print('Content:\\n', commit_content)\n",
    "print('Store:', commit_store)\n",
    "print('Digest:', commit_digest)\n",
    "print('Dir:', commit_digest[:2])\n",
    "print('File:', commit_digest[2:])\n",
    "print('Compressed:', commit_compressed)\n"
   ]
  },
  {
   "cell_type": "markdown",
   "metadata": {},
   "source": [
    "Again we use `git cat-file` to check the content of our commit."
   ]
  },
  {
   "cell_type": "code",
   "execution_count": null,
   "metadata": {},
   "outputs": [],
   "source": [
    "!tree basicrepo/.git\n",
    "!echo '\\nType of object:'\n",
    "!git --git-dir=$PWD/basicrepo/.git cat-file -t ebc0\n",
    "!echo 'Content of object:'\n",
    "!git --git-dir=$PWD/basicrepo/.git cat-file -p ebc0\n",
    "!echo 'Raw content:'\n",
    "!cat basicrepo/.git/objects/eb/c094d762552e26513c7a9d64bfa8441c309cc6"
   ]
  },
  {
   "cell_type": "markdown",
   "metadata": {},
   "source": [
    "Now that we created a commit all that is left to do is create a new branch and checkout our commit.  \n",
    "A branch is only a friendly name for a hash. So creating a branch is really simple. We just have to write the commit hash to a file with our desired branch name as filename. This file has to be saved in the *refs/heads/* direcrory."
   ]
  },
  {
   "cell_type": "code",
   "execution_count": null,
   "metadata": {},
   "outputs": [],
   "source": [
    "!echo ebc094d762552e26513c7a9d64bfa8441c309cc6 > basicrepo/.git/refs/heads/custom-branch\n",
    "!git --git-dir=$PWD/basicrepo/.git --work-tree=$PWD/basicrepo checkout custom-branch\n",
    "!git --git-dir=$PWD/basicrepo/.git --work-tree=$PWD/basicrepo status\n",
    "!tree -a basicrepo/"
   ]
  },
  {
   "cell_type": "markdown",
   "metadata": {},
   "source": [
    "As you can see we have successfully created a commit and checked it out in a custom branch. Our *hello.txt* file was created in our working directory during checkout using only the Git objects that we have created earliers. That's it! If you want to experiment some more yourserlf, have a look at the scripts prvided in the Git repository that also contains this notebook. They offer some more flexibility to create blobs, trees and commits with your own content."
   ]
  },
  {
   "cell_type": "markdown",
   "metadata": {},
   "source": [
    "## Cleanup\n",
    "\n",
    "If you want to rerun this notebook you should delete the *basicrepo/* directory to avoid conflicts. Also you should restart the python kernel."
   ]
  },
  {
   "cell_type": "code",
   "execution_count": null,
   "metadata": {},
   "outputs": [],
   "source": [
    "!rm -rf basicrepo/"
   ]
  },
  {
   "cell_type": "markdown",
   "metadata": {},
   "source": [
    "## References\n",
    "- https://git-scm.com/book/en/v2/Git-Internals-Git-Objects\n",
    "- https://stackoverflow.com/questions/22968856/what-is-the-file-format-of-a-git-commit-object\n",
    "- https://stackoverflow.com/questions/14790681/what-is-the-internal-format-of-a-git-tree-object"
   ]
  }
 ],
 "metadata": {
  "kernelspec": {
   "display_name": "Python 3",
   "language": "python",
   "name": "python3"
  },
  "language_info": {
   "codemirror_mode": {
    "name": "ipython",
    "version": 3
   },
   "file_extension": ".py",
   "mimetype": "text/x-python",
   "name": "python",
   "nbconvert_exporter": "python",
   "pygments_lexer": "ipython3",
   "version": "3.7.4"
  }
 },
 "nbformat": 4,
 "nbformat_minor": 2
}
