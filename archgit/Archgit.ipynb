{
 "cells": [
  {
   "cell_type": "markdown",
   "metadata": {},
   "source": [
    "# Archgit - How To Create A Commit From Scratch\n",
    "\n",
    "Many software developers use Git every day, but have you ever wondered how all of the Git magic acutally works? \"Sure it uses hashes and stuff\" is what you may be thinking right now. Which is correct by the way but it is only part of the story. I will try to enlighten you with some details about the guts of git with this interactive notebook.\n",
    "\n",
    "To do so I will explain how to create a basic Git repository and commit a file without using any git commands all. Welcome to Archgit or how to create a commit from scratch! Without further ado, let's get started!"
   ]
  },
  {
   "cell_type": "markdown",
   "metadata": {},
   "source": [
    "First we need to create a bare bones repository. With `git init` the repository is already bloated with lots of unnecessary stuff..."
   ]
  },
  {
   "cell_type": "code",
   "execution_count": 16,
   "metadata": {
    "scrolled": false
   },
   "outputs": [
    {
     "name": "stdout",
     "output_type": "stream",
     "text": [
      "\u001b[01;34m./bloated/.git/\u001b[00m\r\n",
      "├── HEAD\r\n",
      "├── config\r\n",
      "├── description\r\n",
      "├── \u001b[01;34mhooks\u001b[00m\r\n",
      "│   ├── \u001b[01;32mapplypatch-msg.sample\u001b[00m\r\n",
      "│   ├── \u001b[01;32mcommit-msg.sample\u001b[00m\r\n",
      "│   ├── \u001b[01;32mfsmonitor-watchman.sample\u001b[00m\r\n",
      "│   ├── \u001b[01;32mpost-update.sample\u001b[00m\r\n",
      "│   ├── \u001b[01;32mpre-applypatch.sample\u001b[00m\r\n",
      "│   ├── \u001b[01;32mpre-commit.sample\u001b[00m\r\n",
      "│   ├── \u001b[01;32mpre-push.sample\u001b[00m\r\n",
      "│   ├── \u001b[01;32mpre-rebase.sample\u001b[00m\r\n",
      "│   ├── \u001b[01;32mpre-receive.sample\u001b[00m\r\n",
      "│   ├── \u001b[01;32mprepare-commit-msg.sample\u001b[00m\r\n",
      "│   └── \u001b[01;32mupdate.sample\u001b[00m\r\n",
      "├── \u001b[01;34minfo\u001b[00m\r\n",
      "│   └── exclude\r\n",
      "├── \u001b[01;34mobjects\u001b[00m\r\n",
      "│   ├── \u001b[01;34minfo\u001b[00m\r\n",
      "│   └── \u001b[01;34mpack\u001b[00m\r\n",
      "└── \u001b[01;34mrefs\u001b[00m\r\n",
      "    ├── \u001b[01;34mheads\u001b[00m\r\n",
      "    └── \u001b[01;34mtags\u001b[00m\r\n",
      "\r\n",
      "8 directories, 15 files\r\n"
     ]
    }
   ],
   "source": [
    "!git init -q ./bloated\n",
    "!tree ./bloated/.git/\n",
    "!rm -rf ./bloated"
   ]
  },
  {
   "cell_type": "markdown",
   "metadata": {},
   "source": [
    "What we actually only need is the `.git` directory with the `HEAD` file, which tells git from where to start to build our working directory, as well as the `objects` and `refs` direcotries. The `objects` directory is where Git actually stores all the data and the `refs` directory enables us to save references to specific points in time in a human readable or rather rememberable format."
   ]
  },
  {
   "cell_type": "code",
   "execution_count": 23,
   "metadata": {},
   "outputs": [
    {
     "name": "stdout",
     "output_type": "stream",
     "text": [
      "\u001b[01;34mbasicrepo/.git\u001b[00m\n",
      "├── HEAD\n",
      "├── \u001b[01;34mobjects\u001b[00m\n",
      "└── \u001b[01;34mrefs\u001b[00m\n",
      "\n",
      "2 directories, 1 file\n",
      "On branch master\n",
      "\n",
      "No commits yet\n",
      "\n",
      "nothing to commit (create/copy files and use \"git add\" to track)\n"
     ]
    }
   ],
   "source": [
    "!mkdir -p basicrepo/.git/{refs,objects}\n",
    "!echo \"ref: refs/heads/master\" >> ./basicrepo/.git/HEAD\n",
    "!tree basicrepo/.git\n",
    "!git --git-dir=$PWD/basicrepo/.git --work-tree=$PWD/basicrepo status"
   ]
  },
  {
   "cell_type": "markdown",
   "metadata": {},
   "source": [
    "As we can see `git status` is happy with our minimal repository and says that we are on the *master* branch, which is a little bit of a lie at the moment since there is no reference to the *master* branch in `refs/heads`.\n",
    "\n",
    "Let's takse this opportunity to get into how git actually stores *things* and first and foremost what kind of *things* there actually are"
   ]
  },
  {
   "cell_type": "markdown",
   "metadata": {},
   "source": [
    "## Things in Git - Blobs, Trees and Commits"
   ]
  },
  {
   "cell_type": "code",
   "execution_count": null,
   "metadata": {},
   "outputs": [],
   "source": []
  }
 ],
 "metadata": {
  "kernelspec": {
   "display_name": "Python 3",
   "language": "python",
   "name": "python3"
  },
  "language_info": {
   "codemirror_mode": {
    "name": "ipython",
    "version": 3
   },
   "file_extension": ".py",
   "mimetype": "text/x-python",
   "name": "python",
   "nbconvert_exporter": "python",
   "pygments_lexer": "ipython3",
   "version": "3.7.2"
  }
 },
 "nbformat": 4,
 "nbformat_minor": 2
}
